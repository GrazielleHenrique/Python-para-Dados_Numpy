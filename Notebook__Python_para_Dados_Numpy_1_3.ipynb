{
  "nbformat": 4,
  "nbformat_minor": 0,
  "metadata": {
    "colab": {
      "provenance": []
    },
    "kernelspec": {
      "name": "python3",
      "display_name": "Python 3"
    },
    "language_info": {
      "name": "python"
    }
  },
  "cells": [
    {
      "cell_type": "code",
      "execution_count": 1,
      "metadata": {
        "id": "y933Qf_oW3UK"
      },
      "outputs": [],
      "source": [
        "import numpy as np"
      ]
    },
    {
      "cell_type": "code",
      "source": [
        "acidentes = np.array([[1, 3, 2],\n",
        "                    [0, 1, 0],\n",
        "                    [2, 1, 4],\n",
        "                    [0, 0, 0],\n",
        "                    [1, 1, 0]])"
      ],
      "metadata": {
        "id": "UCFoCmw6XS6O"
      },
      "execution_count": 2,
      "outputs": []
    },
    {
      "cell_type": "code",
      "source": [
        "acidentes"
      ],
      "metadata": {
        "colab": {
          "base_uri": "https://localhost:8080/"
        },
        "id": "AJ5uIgKAgVFI",
        "outputId": "406dac4d-fe1d-4b83-9687-47278b46e557"
      },
      "execution_count": 3,
      "outputs": [
        {
          "output_type": "execute_result",
          "data": {
            "text/plain": [
              "array([[1, 3, 2],\n",
              "       [0, 1, 0],\n",
              "       [2, 1, 4],\n",
              "       [0, 0, 0],\n",
              "       [1, 1, 0]])"
            ]
          },
          "metadata": {},
          "execution_count": 3
        }
      ]
    },
    {
      "cell_type": "markdown",
      "source": [
        "### 1. O cliente que teve acidente abaixo da média nos últimos 2 anos, ganhará um desconto no seu seguro. Identifique-os.\n"
      ],
      "metadata": {
        "id": "-kp7eaKRggd8"
      }
    },
    {
      "cell_type": "code",
      "source": [
        "# calculando a média de acidentes nos últimos dois anos para cada cliente\n",
        "media_ultimos_dois_anos = np.mean(acidentes[:, 1:], axis=1)\n",
        "\n",
        "# calculando a média geral de acidentes nos últimos dois anos\n",
        "media_geral = np.mean(media_ultimos_dois_anos)\n",
        "\n",
        "# identificando os clientes com média abaixo da média geral\n",
        "clientes_desconto = np.where(media_ultimos_dois_anos < media_geral)[0]\n",
        "\n",
        "print(\"Clientes com acidentes abaixo da média nos últimos 2 anos e têm direito ao desconto:\")\n",
        "for cliente in clientes_desconto:\n",
        "    print(\"Cliente\", cliente + 1)"
      ],
      "metadata": {
        "colab": {
          "base_uri": "https://localhost:8080/"
        },
        "id": "Dtqdp8cz4BCv",
        "outputId": "d51d15a5-af63-47d4-8441-20915e1e0de8"
      },
      "execution_count": 11,
      "outputs": [
        {
          "output_type": "stream",
          "name": "stdout",
          "text": [
            "Clientes com acidentes abaixo da média nos últimos 2 anos e têm direito ao desconto:\n",
            "Cliente 2\n",
            "Cliente 4\n",
            "Cliente 5\n"
          ]
        }
      ]
    },
    {
      "cell_type": "markdown",
      "source": [
        "Conclusão:\n",
        "\n",
        "Com base na análise da matriz de acidentes, os seguintes clientes receberão um desconto no seguro:\n",
        "\n",
        ">Cliente 2: Teve 0 acidentes nos últimos 2 anos.\n",
        "\n",
        ">Cliente 4: Teve 0 acidentes nos últimos 2 anos.\n",
        "\n",
        ">Cliente 5: Teve 1 acidente nos últimos 2 anos.\n",
        "\n",
        "Observações:\n",
        "\n",
        "A média de acidentes por cliente foi calculada usando a função np.mean() com o parâmetro axis=0.\n",
        "A comparação com a média foi feita usando o operador menor que (<).\n",
        "Os índices dos clientes abaixo da média foram encontrados usando a função np.where() com a soma dos valores booleanos por coluna (axis=0).\n",
        "Os clientes com desconto foram identificados usando a indexação de arrays."
      ],
      "metadata": {
        "id": "kbYxWteDR1o-"
      }
    },
    {
      "cell_type": "markdown",
      "source": [
        "### 2. Qual cliente teve pelo menos 2 anos sem cometer acidentes?"
      ],
      "metadata": {
        "id": "hssvZjW4hryJ"
      }
    },
    {
      "cell_type": "code",
      "source": [
        "# verificando quais clientes têm pelo menos 2 anos sem cometer acidentes\n",
        "clientes_sem_acidentes = np.where((acidentes[:, -2] == 0) & (acidentes[:, -1] == 0))[0]\n",
        "\n",
        "print(\"Clientes com pelo menos 2 anos sem cometer acidentes:\")\n",
        "for cliente in clientes_sem_acidentes:\n",
        "    print(\"Cliente\", cliente + 1)"
      ],
      "metadata": {
        "id": "cYVHNd2MIp98",
        "colab": {
          "base_uri": "https://localhost:8080/"
        },
        "outputId": "993c95b0-ba14-43d1-8bf0-48c6d0b5b96c"
      },
      "execution_count": 12,
      "outputs": [
        {
          "output_type": "stream",
          "name": "stdout",
          "text": [
            "Clientes com pelo menos 2 anos sem cometer acidentes:\n",
            "Cliente 4\n"
          ]
        }
      ]
    },
    {
      "cell_type": "markdown",
      "source": [
        "### 3. Uma professora quer que seus alunos apliquem a função (3x + 2y + x*y) em um conjunto de dados. Ela dá dois arrays aos estudantes e pede que seja feita essa operação.\n"
      ],
      "metadata": {
        "id": "A1YunPlfnIwj"
      }
    },
    {
      "cell_type": "code",
      "source": [
        "# definindo os arrays de dados x e y\n",
        "x = np.array([1, 2, 3, 4, 5])\n",
        "y = np.array([2, 3, 4, 5, 6])\n",
        "\n",
        "# aplicando a função nos dados\n",
        "resultado = 3*x + 2*y + x*y\n",
        "\n",
        "print(\"Resultado da função para cada par de dados:\")\n",
        "print(resultado)"
      ],
      "metadata": {
        "id": "g1S3HA7X2EtH",
        "colab": {
          "base_uri": "https://localhost:8080/"
        },
        "outputId": "4ab652d6-6473-4920-be32-6351f632a8aa"
      },
      "execution_count": 13,
      "outputs": [
        {
          "output_type": "stream",
          "name": "stdout",
          "text": [
            "Resultado da função para cada par de dados:\n",
            "[ 9 18 29 42 57]\n"
          ]
        }
      ]
    },
    {
      "cell_type": "markdown",
      "source": [
        "### 4. A mesma professora percebeu que houve um erro em todas as provas dos estudantes e esqueceu de anotar a nota de trabalhos apresentados durante o semestre. Já que foi feito em grupo ela vai adicionar a mesma nota para todos os estudantes. No array cada estudante representa uma linha e cada coluna uma prova. Adicione para cada prova de cada estudante os valores: 1, 2, 1."
      ],
      "metadata": {
        "id": "BJGzageWp-XC"
      }
    },
    {
      "cell_type": "code",
      "source": [
        "# array representando as notas dos alunos em cada prova\n",
        "notas = np.array([[5, 7, 6],\n",
        "                  [8, 6, 7],\n",
        "                  [9, 8, 7]])\n",
        "\n",
        "# valores a serem adicionados em cada prova\n",
        "valores_a_adicionar = np.array([1, 2, 1])\n",
        "\n",
        "# adicionando os valores em cada prova de cada estudante\n",
        "notas_corrigidas = notas + valores_a_adicionar\n",
        "\n",
        "print(\"Notas corrigidas após adicionar os valores:\")\n",
        "print(notas_corrigidas)"
      ],
      "metadata": {
        "id": "8mf-__Tc2GBO",
        "colab": {
          "base_uri": "https://localhost:8080/"
        },
        "outputId": "3628438f-4d0c-4d3c-bcf2-1ae996cf7625"
      },
      "execution_count": 14,
      "outputs": [
        {
          "output_type": "stream",
          "name": "stdout",
          "text": [
            "Notas corrigidas após adicionar os valores:\n",
            "[[ 6  9  7]\n",
            " [ 9  8  8]\n",
            " [10 10  8]]\n"
          ]
        }
      ]
    }
  ]
}