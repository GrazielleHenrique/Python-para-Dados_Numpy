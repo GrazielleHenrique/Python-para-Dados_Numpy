{
  "cells": [
    {
      "cell_type": "code",
      "execution_count": 32,
      "metadata": {
        "id": "s-4cD4a2NazV"
      },
      "outputs": [],
      "source": [
        "import numpy as np"
      ]
    },
    {
      "cell_type": "markdown",
      "metadata": {
        "id": "ImIu6U1tapvP"
      },
      "source": [
        "## Rascunho - Introdução ao Numpy"
      ]
    },
    {
      "cell_type": "code",
      "execution_count": 33,
      "metadata": {
        "id": "Vqe9MVcRNeZR"
      },
      "outputs": [],
      "source": [
        "l = [4, 8, 2, 12, 5, 8, 0]"
      ]
    },
    {
      "cell_type": "code",
      "execution_count": 34,
      "metadata": {
        "colab": {
          "base_uri": "https://localhost:8080/"
        },
        "id": "wAaR4l8iPeB9",
        "outputId": "74091136-1de4-443c-d752-bfc5e41941ce"
      },
      "outputs": [
        {
          "output_type": "execute_result",
          "data": {
            "text/plain": [
              "array([ 4,  8,  2, 12,  5,  8,  0])"
            ]
          },
          "metadata": {},
          "execution_count": 34
        }
      ],
      "source": [
        "arr = np.array(l)\n",
        "arr"
      ]
    },
    {
      "cell_type": "markdown",
      "metadata": {
        "id": "VRiILYp9ZuF_"
      },
      "source": []
    },
    {
      "cell_type": "code",
      "execution_count": 35,
      "metadata": {
        "colab": {
          "base_uri": "https://localhost:8080/"
        },
        "id": "DRsgDeOvPj2M",
        "outputId": "cf6e4574-53c0-4a63-adf0-2b32c9ca3b70"
      },
      "outputs": [
        {
          "output_type": "execute_result",
          "data": {
            "text/plain": [
              "numpy.ndarray"
            ]
          },
          "metadata": {},
          "execution_count": 35
        }
      ],
      "source": [
        "type(arr)"
      ]
    },
    {
      "cell_type": "code",
      "execution_count": 36,
      "metadata": {
        "colab": {
          "base_uri": "https://localhost:8080/"
        },
        "id": "J0QdGt9fPlKi",
        "outputId": "78069747-dbc7-45fc-f612-8ff21af83ce8"
      },
      "outputs": [
        {
          "output_type": "stream",
          "name": "stdout",
          "text": [
            "(2, 3)\n",
            "2\n"
          ]
        }
      ],
      "source": [
        "l2 = [[1, 2, 3],\n",
        "      [4, 5, 6]]\n",
        "\n",
        "l3 = np.array(l2)\n",
        "\n",
        "print(l3.shape)\n",
        "print(l3.ndim)"
      ]
    },
    {
      "cell_type": "markdown",
      "source": [
        "`np.zeros()` <br>\n",
        "`np.arange()` <br>\n",
        "`np.random.random()`"
      ],
      "metadata": {
        "id": "DmxOeFAL0AHI"
      }
    },
    {
      "cell_type": "code",
      "execution_count": 37,
      "metadata": {
        "colab": {
          "base_uri": "https://localhost:8080/"
        },
        "id": "Zkq_q0cNP57z",
        "outputId": "d74bbdc6-c170-4e18-b831-22269649029c"
      },
      "outputs": [
        {
          "output_type": "stream",
          "name": "stdout",
          "text": [
            "['1' 'ss']\n"
          ]
        }
      ],
      "source": [
        "l4 = [1, \"ss\"]\n",
        "a = np.array(l4)\n",
        "\n",
        "print(a)"
      ]
    },
    {
      "cell_type": "code",
      "execution_count": 38,
      "metadata": {
        "colab": {
          "base_uri": "https://localhost:8080/"
        },
        "id": "o8Z1Z8idR7fj",
        "outputId": "25325d3c-f6b1-4b65-81df-fc340d9261ce"
      },
      "outputs": [
        {
          "output_type": "execute_result",
          "data": {
            "text/plain": [
              "array([[0., 0., 0.],\n",
              "       [0., 0., 0.],\n",
              "       [0., 0., 0.],\n",
              "       [0., 0., 0.],\n",
              "       [0., 0., 0.]])"
            ]
          },
          "metadata": {},
          "execution_count": 38
        }
      ],
      "source": [
        "np.zeros((5, 3))"
      ]
    },
    {
      "cell_type": "code",
      "execution_count": 39,
      "metadata": {
        "colab": {
          "base_uri": "https://localhost:8080/"
        },
        "id": "1OWHhsD_R9Wu",
        "outputId": "5f969944-e7cc-4578-d1fd-e65f89a3faca"
      },
      "outputs": [
        {
          "output_type": "execute_result",
          "data": {
            "text/plain": [
              "array([[0.44881436, 0.06593219, 0.65166286],\n",
              "       [0.29770392, 0.14129133, 0.99589803]])"
            ]
          },
          "metadata": {},
          "execution_count": 39
        }
      ],
      "source": [
        "np.random.random((2,3))"
      ]
    },
    {
      "cell_type": "code",
      "execution_count": 40,
      "metadata": {
        "colab": {
          "base_uri": "https://localhost:8080/"
        },
        "id": "vQdnroSJS8L-",
        "outputId": "ee4fab5c-70cf-4141-a26c-ea574421f162"
      },
      "outputs": [
        {
          "output_type": "execute_result",
          "data": {
            "text/plain": [
              "<module 'numpy.random' from '/usr/local/lib/python3.10/dist-packages/numpy/random/__init__.py'>"
            ]
          },
          "metadata": {},
          "execution_count": 40
        }
      ],
      "source": [
        "np.random"
      ]
    },
    {
      "cell_type": "code",
      "execution_count": 41,
      "metadata": {
        "colab": {
          "base_uri": "https://localhost:8080/"
        },
        "id": "tvSvwbt2WDoW",
        "outputId": "d3e1e142-b1f8-4339-e3d0-5016680527fd"
      },
      "outputs": [
        {
          "output_type": "execute_result",
          "data": {
            "text/plain": [
              "array([-2,  0,  2,  4])"
            ]
          },
          "metadata": {},
          "execution_count": 41
        }
      ],
      "source": [
        "np.arange(-2, 5, 2)"
      ]
    },
    {
      "cell_type": "code",
      "execution_count": 42,
      "metadata": {
        "colab": {
          "base_uri": "https://localhost:8080/"
        },
        "id": "Q5ugFgTxWHuN",
        "outputId": "11d2c110-ddea-4b2b-9fdf-05f40e973f02"
      },
      "outputs": [
        {
          "output_type": "execute_result",
          "data": {
            "text/plain": [
              "[-2, 0, 2, 4]"
            ]
          },
          "metadata": {},
          "execution_count": 42
        }
      ],
      "source": [
        "list(range(-2, 5, 2))"
      ]
    },
    {
      "cell_type": "code",
      "execution_count": 43,
      "metadata": {
        "id": "sHo2Y7dGWKgG"
      },
      "outputs": [],
      "source": [
        "from matplotlib import pyplot as plt"
      ]
    },
    {
      "cell_type": "code",
      "execution_count": 44,
      "metadata": {
        "colab": {
          "base_uri": "https://localhost:8080/",
          "height": 430
        },
        "id": "jGGAaAAyWeDr",
        "outputId": "82ab7fbf-0ff7-4253-8a4d-404a8690143a"
      },
      "outputs": [
        {
          "output_type": "display_data",
          "data": {
            "text/plain": [
              "<Figure size 640x480 with 1 Axes>"
            ],
            "image/png": "[encoded data removed]"
          },
          "metadata": {}
        }
      ],
      "source": [
        "plt.scatter(np.arange(0,12),\n",
        "            np.arange(-3,9))\n",
        "plt.show()"
      ]
    },
    {
      "cell_type": "code",
      "execution_count": 44,
      "metadata": {
        "id": "xJ1LV8DNWmQN"
      },
      "outputs": [],
      "source": []
    },
    {
      "cell_type": "markdown",
      "metadata": {
        "id": "8KGd6hxvXHbw"
      },
      "source": [
        "## 1. Crie um array com 4 linhas e 3 colunas com valores aleatórios"
      ]
    },
    {
      "cell_type": "code",
      "execution_count": 45,
      "metadata": {
        "id": "amvVfwQI24JW",
        "colab": {
          "base_uri": "https://localhost:8080/"
        },
        "outputId": "fb0f8368-0a70-48ae-88a3-b575a6c4490f"
      },
      "outputs": [
        {
          "output_type": "execute_result",
          "data": {
            "text/plain": [
              "array([[0.46557453, 0.45067689, 0.25898326],\n",
              "       [0.53956796, 0.20042163, 0.05858929],\n",
              "       [0.5932419 , 0.847541  , 0.02088124],\n",
              "       [0.80057243, 0.20762822, 0.57311825]])"
            ]
          },
          "metadata": {},
          "execution_count": 45
        }
      ],
      "source": [
        "np.random.random((4,3))"
      ]
    },
    {
      "cell_type": "markdown",
      "metadata": {
        "id": "XjvUczhmXZi-"
      },
      "source": [
        "## 2. Crie um array com valores inteiros 3 linhas e 5 colunas com valores aleatórios"
      ]
    },
    {
      "cell_type": "code",
      "execution_count": 46,
      "metadata": {
        "id": "y0pkI-C824nO",
        "colab": {
          "base_uri": "https://localhost:8080/"
        },
        "outputId": "9aa5e06b-ad67-4f27-9f50-888c4908a621"
      },
      "outputs": [
        {
          "output_type": "execute_result",
          "data": {
            "text/plain": [
              "array([[39, 91, 60, 47,  1],\n",
              "       [35, 69, 89, 73, 38],\n",
              "       [17, 39, 86,  4, 83]])"
            ]
          },
          "metadata": {},
          "execution_count": 46
        }
      ],
      "source": [
        "np.random.randint(100, size=(3,5))"
      ]
    },
    {
      "cell_type": "markdown",
      "metadata": {
        "id": "6nnXiIr2ZyLZ"
      },
      "source": [
        "## 3. Crie um array com 5 colunas e 10 linhas inicializados com zeros."
      ]
    },
    {
      "cell_type": "code",
      "execution_count": 47,
      "metadata": {
        "id": "0tWf-9PK25DQ",
        "colab": {
          "base_uri": "https://localhost:8080/"
        },
        "outputId": "e7371c24-0729-4ea2-b1a2-b5ffc6ede385"
      },
      "outputs": [
        {
          "output_type": "execute_result",
          "data": {
            "text/plain": [
              "array([[0., 0., 0., 0., 0.],\n",
              "       [0., 0., 0., 0., 0.],\n",
              "       [0., 0., 0., 0., 0.],\n",
              "       [0., 0., 0., 0., 0.],\n",
              "       [0., 0., 0., 0., 0.],\n",
              "       [0., 0., 0., 0., 0.],\n",
              "       [0., 0., 0., 0., 0.],\n",
              "       [0., 0., 0., 0., 0.],\n",
              "       [0., 0., 0., 0., 0.],\n",
              "       [0., 0., 0., 0., 0.]])"
            ]
          },
          "metadata": {},
          "execution_count": 47
        }
      ],
      "source": [
        "np.zeros((10,5))"
      ]
    },
    {
      "cell_type": "markdown",
      "metadata": {
        "id": "mojhFJbIa3YL"
      },
      "source": [
        "## 4. Crie um array que vá entre 0 e 90 pulando de 4 em 4"
      ]
    },
    {
      "cell_type": "code",
      "execution_count": 48,
      "metadata": {
        "id": "BcdjcvUC25qk",
        "colab": {
          "base_uri": "https://localhost:8080/"
        },
        "outputId": "4489b633-9f1a-43ee-e76a-b8632e492580"
      },
      "outputs": [
        {
          "output_type": "execute_result",
          "data": {
            "text/plain": [
              "array([ 0,  4,  8, 12, 16, 20, 24, 28, 32, 36, 40, 44, 48, 52, 56, 60, 64,\n",
              "       68, 72, 76, 80, 84, 88])"
            ]
          },
          "metadata": {},
          "execution_count": 48
        }
      ],
      "source": [
        "np.arange(0,90,4)"
      ]
    },
    {
      "cell_type": "markdown",
      "metadata": {
        "id": "3P8kKI8fagz-"
      },
      "source": [
        "\n",
        "\n",
        "---\n",
        "## Rascunhos - Array com 3 dimensões\n"
      ]
    },
    {
      "cell_type": "code",
      "execution_count": 49,
      "metadata": {
        "id": "HHOMuU8WYljG"
      },
      "outputs": [],
      "source": [
        "arr1_2d = np.array([[1, 2], [3, 4]])\n",
        "arr2_2d = np.array([[5, 6], [7, 8]])\n",
        "arr3_2d = np.array([[9, 2], [3, 4]])\n",
        "\n",
        "arr_3d = np.array([arr1_2d, arr2_2d, arr3_2d])\n"
      ]
    },
    {
      "cell_type": "code",
      "execution_count": 50,
      "metadata": {
        "colab": {
          "base_uri": "https://localhost:8080/"
        },
        "id": "YzpkKUOebm5t",
        "outputId": "5ec0007d-935d-4267-a77c-9e47bd8b72c0"
      },
      "outputs": [
        {
          "output_type": "execute_result",
          "data": {
            "text/plain": [
              "array([[[[0.31852288, 0.1956978 ],\n",
              "         [0.80475548, 0.86094762],\n",
              "         [0.32411485, 0.08690969]],\n",
              "\n",
              "        [[0.51643305, 0.40999562],\n",
              "         [0.90616974, 0.61638046],\n",
              "         [0.56574798, 0.81452133]]],\n",
              "\n",
              "\n",
              "       [[[0.46317036, 0.09192541],\n",
              "         [0.69226984, 0.77180331],\n",
              "         [0.40137578, 0.30543864]],\n",
              "\n",
              "        [[0.72739967, 0.76855563],\n",
              "         [0.44853499, 0.0013889 ],\n",
              "         [0.40085183, 0.0729617 ]]]])"
            ]
          },
          "metadata": {},
          "execution_count": 50
        }
      ],
      "source": [
        "arr_4d = np.random.random((2, 2, 3, 2))\n",
        "arr_4d"
      ]
    },
    {
      "cell_type": "code",
      "execution_count": 51,
      "metadata": {
        "colab": {
          "base_uri": "https://localhost:8080/"
        },
        "id": "QA5bPlE5bnXu",
        "outputId": "1929f7f9-f38c-40cc-ce30-e6d7e78b9bbc"
      },
      "outputs": [
        {
          "output_type": "execute_result",
          "data": {
            "text/plain": [
              "array([[[[1, 2],\n",
              "         [3, 4]],\n",
              "\n",
              "        [[5, 6],\n",
              "         [7, 8]],\n",
              "\n",
              "        [[9, 2],\n",
              "         [3, 4]]],\n",
              "\n",
              "\n",
              "       [[[1, 2],\n",
              "         [3, 4]],\n",
              "\n",
              "        [[5, 6],\n",
              "         [7, 8]],\n",
              "\n",
              "        [[9, 2],\n",
              "         [3, 4]]]])"
            ]
          },
          "metadata": {},
          "execution_count": 51
        }
      ],
      "source": [
        "np.array([arr_3d, arr_3d])"
      ]
    },
    {
      "cell_type": "code",
      "execution_count": 52,
      "metadata": {
        "colab": {
          "base_uri": "https://localhost:8080/"
        },
        "id": "iuUyqGhaj64h",
        "outputId": "1b651d0c-93e7-4cb4-ffcc-e17057f66e37"
      },
      "outputs": [
        {
          "output_type": "execute_result",
          "data": {
            "text/plain": [
              "array([[0., 0., 0., 0.],\n",
              "       [0., 0., 0., 0.]])"
            ]
          },
          "metadata": {},
          "execution_count": 52
        }
      ],
      "source": [
        "arr = np.zeros((2, 4))\n",
        "arr"
      ]
    },
    {
      "cell_type": "code",
      "execution_count": 53,
      "metadata": {
        "colab": {
          "base_uri": "https://localhost:8080/"
        },
        "id": "PdQLoHSLj_tg",
        "outputId": "e37e9325-4897-49ca-a10e-9ae578114357"
      },
      "outputs": [
        {
          "output_type": "execute_result",
          "data": {
            "text/plain": [
              "(2, 4)"
            ]
          },
          "metadata": {},
          "execution_count": 53
        }
      ],
      "source": [
        "arr.shape"
      ]
    },
    {
      "cell_type": "code",
      "execution_count": 54,
      "metadata": {
        "colab": {
          "base_uri": "https://localhost:8080/"
        },
        "id": "6zrSz-caeh1Y",
        "outputId": "22cc0f2a-db8e-44df-968b-b8c3d711d8f0"
      },
      "outputs": [
        {
          "output_type": "execute_result",
          "data": {
            "text/plain": [
              "array([ 3,  4,  8, 11,  9,  9])"
            ]
          },
          "metadata": {},
          "execution_count": 54
        }
      ],
      "source": [
        "arr = np.array([[3, 4], [8, 11], [9, 9]])\n",
        "arr.flatten()\n"
      ]
    },
    {
      "cell_type": "code",
      "execution_count": 55,
      "metadata": {
        "colab": {
          "base_uri": "https://localhost:8080/"
        },
        "id": "4Am1WW6xkKSJ",
        "outputId": "20a196d7-b13e-4543-f4c1-b01e13285242"
      },
      "outputs": [
        {
          "output_type": "execute_result",
          "data": {
            "text/plain": [
              "array([[ 3,  4],\n",
              "       [ 2,  8],\n",
              "       [11,  5]])"
            ]
          },
          "metadata": {},
          "execution_count": 55
        }
      ],
      "source": [
        "arr = np.array([[3, 4, 2], [8, 11, 5]])\n",
        "arr.reshape((3, 2))\n"
      ]
    },
    {
      "cell_type": "markdown",
      "metadata": {
        "id": "3c2qHtxhsN77"
      },
      "source": [
        "## 1. Reduza o array (5,7) a apenas uma dimensão"
      ]
    },
    {
      "cell_type": "code",
      "execution_count": 56,
      "metadata": {
        "id": "05mvXbPciElu"
      },
      "outputs": [],
      "source": [
        "arr = np.random.random((5,7))"
      ]
    },
    {
      "cell_type": "code",
      "source": [
        "arr.flatten()"
      ],
      "metadata": {
        "colab": {
          "base_uri": "https://localhost:8080/"
        },
        "id": "gEUxu52Gz1oJ",
        "outputId": "bb2a57d7-4cb3-4ca1-91cb-b44baf54177a"
      },
      "execution_count": 57,
      "outputs": [
        {
          "output_type": "execute_result",
          "data": {
            "text/plain": [
              "array([0.34684038, 0.47211605, 0.44532626, 0.78001874, 0.08848318,\n",
              "       0.58933427, 0.77438147, 0.63844107, 0.41049387, 0.9473023 ,\n",
              "       0.37162576, 0.00453728, 0.98333548, 0.68134049, 0.82732801,\n",
              "       0.24291611, 0.27793631, 0.79581657, 0.06883029, 0.17403925,\n",
              "       0.26220263, 0.49088843, 0.71739879, 0.76794475, 0.59112726,\n",
              "       0.66623265, 0.21162602, 0.4876151 , 0.27103455, 0.28058382,\n",
              "       0.27444205, 0.39159532, 0.01430779, 0.98583626, 0.93173774])"
            ]
          },
          "metadata": {},
          "execution_count": 57
        }
      ]
    },
    {
      "cell_type": "markdown",
      "metadata": {
        "id": "6mh-aOcQqy0S"
      },
      "source": [
        "## 2. Considerando que você é uma organizadora de um jogo de bingo. Crie um array que irá representar a cartilha desses jogos de bingo. os números da suas cartelas variam entre 1 e 30, e você terá 10 participantes. Cada cartela terá 12 números (4, 3).\n",
        "## Crie um array que represente esse jogo"
      ]
    },
    {
      "cell_type": "code",
      "execution_count": 58,
      "metadata": {
        "id": "2LWkIt6I2OGo",
        "colab": {
          "base_uri": "https://localhost:8080/"
        },
        "outputId": "7e8f592b-0b52-499b-f1b5-4a3ceedbe3f0"
      },
      "outputs": [
        {
          "output_type": "execute_result",
          "data": {
            "text/plain": [
              "array([[[21, 15, 15],\n",
              "        [18,  5, 21],\n",
              "        [25,  4, 17],\n",
              "        [18, 18, 19]],\n",
              "\n",
              "       [[ 9, 19,  7],\n",
              "        [16, 19, 26],\n",
              "        [11, 22, 26],\n",
              "        [15, 16, 26]],\n",
              "\n",
              "       [[24, 21, 13],\n",
              "        [11,  8, 25],\n",
              "        [15, 20,  7],\n",
              "        [12,  4, 19]],\n",
              "\n",
              "       [[25, 28, 29],\n",
              "        [ 9, 21, 23],\n",
              "        [24, 21, 20],\n",
              "        [ 5,  1,  3]],\n",
              "\n",
              "       [[24, 16, 17],\n",
              "        [16,  2,  9],\n",
              "        [13, 11, 22],\n",
              "        [ 6, 30, 25]],\n",
              "\n",
              "       [[23, 27,  7],\n",
              "        [10, 14, 25],\n",
              "        [16, 16,  5],\n",
              "        [16, 16,  3]],\n",
              "\n",
              "       [[ 8, 25, 19],\n",
              "        [ 5, 30, 19],\n",
              "        [21, 10, 10],\n",
              "        [16, 12, 14]],\n",
              "\n",
              "       [[11, 29, 21],\n",
              "        [ 3,  1, 12],\n",
              "        [ 2, 17, 13],\n",
              "        [ 9, 14, 24]],\n",
              "\n",
              "       [[15, 16,  2],\n",
              "        [17, 27, 25],\n",
              "        [11, 28, 23],\n",
              "        [17, 20,  5]],\n",
              "\n",
              "       [[11, 24,  2],\n",
              "        [16, 30, 29],\n",
              "        [23, 11,  5],\n",
              "        [ 8,  9, 12]]])"
            ]
          },
          "metadata": {},
          "execution_count": 58
        }
      ],
      "source": [
        "bingo = np.random.randint(1, 31, size=(10,4,3))\n",
        "bingo"
      ]
    },
    {
      "cell_type": "markdown",
      "source": [],
      "metadata": {
        "id": "-i57_vK_fn7N"
      }
    },
    {
      "cell_type": "markdown",
      "metadata": {
        "id": "vopTx8gjtiMn"
      },
      "source": [
        "## 3. Faça o reshape das suas cartelas para que haja 5 cartelas de 4 linhas e 6 colunas"
      ]
    },
    {
      "cell_type": "code",
      "execution_count": 59,
      "metadata": {
        "id": "LVHYKk0ys5JA",
        "colab": {
          "base_uri": "https://localhost:8080/"
        },
        "outputId": "8a5ba5cc-7722-4165-b3d5-a41a7e3389ab"
      },
      "outputs": [
        {
          "output_type": "execute_result",
          "data": {
            "text/plain": [
              "array([[[21, 15, 15, 18,  5, 21],\n",
              "        [25,  4, 17, 18, 18, 19],\n",
              "        [ 9, 19,  7, 16, 19, 26],\n",
              "        [11, 22, 26, 15, 16, 26]],\n",
              "\n",
              "       [[24, 21, 13, 11,  8, 25],\n",
              "        [15, 20,  7, 12,  4, 19],\n",
              "        [25, 28, 29,  9, 21, 23],\n",
              "        [24, 21, 20,  5,  1,  3]],\n",
              "\n",
              "       [[24, 16, 17, 16,  2,  9],\n",
              "        [13, 11, 22,  6, 30, 25],\n",
              "        [23, 27,  7, 10, 14, 25],\n",
              "        [16, 16,  5, 16, 16,  3]],\n",
              "\n",
              "       [[ 8, 25, 19,  5, 30, 19],\n",
              "        [21, 10, 10, 16, 12, 14],\n",
              "        [11, 29, 21,  3,  1, 12],\n",
              "        [ 2, 17, 13,  9, 14, 24]],\n",
              "\n",
              "       [[15, 16,  2, 17, 27, 25],\n",
              "        [11, 28, 23, 17, 20,  5],\n",
              "        [11, 24,  2, 16, 30, 29],\n",
              "        [23, 11,  5,  8,  9, 12]]])"
            ]
          },
          "metadata": {},
          "execution_count": 59
        }
      ],
      "source": [
        "bingo.reshape((5,4,6))"
      ]
    },
    {
      "cell_type": "markdown",
      "metadata": {
        "id": "8f6qpfC3_2mk"
      },
      "source": [
        "# Tipo de dados em um numpy array\n"
      ]
    },
    {
      "cell_type": "code",
      "execution_count": 60,
      "metadata": {
        "colab": {
          "base_uri": "https://localhost:8080/"
        },
        "id": "Zw9N5oXN_7WV",
        "outputId": "9fe7bb49-a911-4211-bbc0-508afc3c01c4"
      },
      "outputs": [
        {
          "output_type": "execute_result",
          "data": {
            "text/plain": [
              "dtype('float64')"
            ]
          },
          "metadata": {},
          "execution_count": 60
        }
      ],
      "source": [
        "np.array([2.14, 6.25, 160.87, 8.4]).dtype"
      ]
    },
    {
      "cell_type": "code",
      "execution_count": 61,
      "metadata": {
        "colab": {
          "base_uri": "https://localhost:8080/"
        },
        "id": "xKPsZ4pAACOz",
        "outputId": "74254b52-e6e6-4aac-e76e-66293305ed6d"
      },
      "outputs": [
        {
          "output_type": "execute_result",
          "data": {
            "text/plain": [
              "dtype('int64')"
            ]
          },
          "metadata": {},
          "execution_count": 61
        }
      ],
      "source": [
        "np.array([2, 6, 160, 8]).dtype"
      ]
    },
    {
      "cell_type": "code",
      "execution_count": 62,
      "metadata": {
        "colab": {
          "base_uri": "https://localhost:8080/"
        },
        "id": "--fFIEgvAtKF",
        "outputId": "ec921fc2-b394-4a6e-ff5c-b856a87166a2"
      },
      "outputs": [
        {
          "output_type": "execute_result",
          "data": {
            "text/plain": [
              "dtype('<U5')"
            ]
          },
          "metadata": {},
          "execution_count": 62
        }
      ],
      "source": [
        "np.array([\"Hello\", \"Coder\", \"Girls\"]).dtype"
      ]
    },
    {
      "cell_type": "code",
      "execution_count": 63,
      "metadata": {
        "colab": {
          "base_uri": "https://localhost:8080/"
        },
        "id": "lgYPwwpFA2AR",
        "outputId": "9517df61-7a0f-4199-f5f5-a16aa6611c2f"
      },
      "outputs": [
        {
          "output_type": "execute_result",
          "data": {
            "text/plain": [
              "array([  2.14,   6.25, 160.87], dtype=float32)"
            ]
          },
          "metadata": {},
          "execution_count": 63
        }
      ],
      "source": [
        "arr_flaot32 = np.array([2.14, 6.25, 160.87], dtype=np.float32)\n",
        "arr_flaot32"
      ]
    },
    {
      "cell_type": "code",
      "execution_count": 64,
      "metadata": {
        "colab": {
          "base_uri": "https://localhost:8080/"
        },
        "id": "XpBTC041BtpR",
        "outputId": "119eb562-a3d5-4399-f282-a749d288fe35"
      },
      "outputs": [
        {
          "output_type": "stream",
          "name": "stderr",
          "text": [
            "<ipython-input-64-a1615ceddfc6>:1: DeprecationWarning: `np.bool8` is a deprecated alias for `np.bool_`.  (Deprecated NumPy 1.24)\n",
            "  arr_vf = np.array([[True, False], [True, True]], dtype=np.bool8)\n"
          ]
        },
        {
          "output_type": "execute_result",
          "data": {
            "text/plain": [
              "array([[1, 0],\n",
              "       [1, 1]], dtype=int32)"
            ]
          },
          "metadata": {},
          "execution_count": 64
        }
      ],
      "source": [
        "arr_vf = np.array([[True, False], [True, True]], dtype=np.bool8)\n",
        "arr_vf.astype(np.int32)"
      ]
    },
    {
      "cell_type": "code",
      "execution_count": 65,
      "metadata": {
        "colab": {
          "base_uri": "https://localhost:8080/"
        },
        "id": "6tE5yQ60CbsL",
        "outputId": "49274a65-dd46-4422-a01e-35326169c645"
      },
      "outputs": [
        {
          "output_type": "execute_result",
          "data": {
            "text/plain": [
              "array(['pedra', 'False', '42', '42.42'], dtype='<U32')"
            ]
          },
          "metadata": {},
          "execution_count": 65
        }
      ],
      "source": [
        "np.array([\"pedra\", False , 42, 42.42])"
      ]
    },
    {
      "cell_type": "code",
      "execution_count": 66,
      "metadata": {
        "colab": {
          "base_uri": "https://localhost:8080/"
        },
        "id": "K2Rq5Mb2DbPq",
        "outputId": "76437921-0da8-464c-c430-86ea7d773d49"
      },
      "outputs": [
        {
          "output_type": "execute_result",
          "data": {
            "text/plain": [
              "dtype('int64')"
            ]
          },
          "metadata": {},
          "execution_count": 66
        }
      ],
      "source": [
        "np.array([0, 10]).dtype"
      ]
    },
    {
      "cell_type": "code",
      "execution_count": 67,
      "metadata": {
        "colab": {
          "base_uri": "https://localhost:8080/"
        },
        "id": "q_gjB8HGDbTE",
        "outputId": "b7cb0564-125e-4a55-ad54-03b9e9321c42"
      },
      "outputs": [
        {
          "output_type": "execute_result",
          "data": {
            "text/plain": [
              "dtype('float64')"
            ]
          },
          "metadata": {},
          "execution_count": 67
        }
      ],
      "source": [
        "np.array([0, 10, 1.]).dtype"
      ]
    },
    {
      "cell_type": "code",
      "execution_count": 68,
      "metadata": {
        "colab": {
          "base_uri": "https://localhost:8080/"
        },
        "id": "hAKlEJtjDUH7",
        "outputId": "37e57131-0102-4483-c3df-09640235cc4b"
      },
      "outputs": [
        {
          "output_type": "execute_result",
          "data": {
            "text/plain": [
              "dtype('bool')"
            ]
          },
          "metadata": {},
          "execution_count": 68
        }
      ],
      "source": [
        "np.array([True, False]).dtype"
      ]
    },
    {
      "cell_type": "code",
      "execution_count": 69,
      "metadata": {
        "colab": {
          "base_uri": "https://localhost:8080/"
        },
        "id": "kR-8fpMjCi8f",
        "outputId": "fcec7b78-73b1-4867-fe74-435b2b504390"
      },
      "outputs": [
        {
          "output_type": "execute_result",
          "data": {
            "text/plain": [
              "dtype('int64')"
            ]
          },
          "metadata": {},
          "execution_count": 69
        }
      ],
      "source": [
        "np.array([True, False, 12]).dtype"
      ]
    }
  ],
  "metadata": {
    "colab": {
      "provenance": []
    },
    "kernelspec": {
      "display_name": "Python 3 (ipykernel)",
      "language": "python",
      "name": "python3"
    },
    "language_info": {
      "codemirror_mode": {
        "name": "ipython",
        "version": 3
      },
      "file_extension": ".py",
      "mimetype": "text/x-python",
      "name": "python",
      "nbconvert_exporter": "python",
      "pygments_lexer": "ipython3",
      "version": "3.9.18"
    }
  },
  "nbformat": 4,
  "nbformat_minor": 0
}